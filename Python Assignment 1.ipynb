{
 "cells": [
  {
   "cell_type": "code",
   "execution_count": 1,
   "metadata": {},
   "outputs": [
    {
     "name": "stdout",
     "output_type": "stream",
     "text": [
      "2007,2014,2021,2028,2042,2049,2056,2063,2077,2084,2091,2098,2112,2119,2126,2133,2147,2154,2161,2168,2182,2189,2196,2203,2217,2224,2231,2238,2252,2259,2266,2273,2287,2294,2301,2308,2322,2329,2336,2343,2357,2364,2371,2378,2392,2399,2406,2413,2427,2434,2441,2448,2462,2469,2476,2483,2497,2504,2511,2518,2532,2539,2546,2553,2567,2574,2581,2588,2602,2609,2616,2623,2637,2644,2651,2658,2672,2679,2686,2693,2707,2714,2721,2728,2742,2749,2756,2763,2777,2784,2791,2798,2812,2819,2826,2833,2847,2854,2861,2868,2882,2889,2896,2903,2917,2924,2931,2938,2952,2959,2966,2973,2987,2994,3001,3008,3022,3029,3036,3043,3057,3064,3071,3078,3092,3099,3106,3113,3127,3134,3141,3148,3162,3169,3176,3183,3197\n"
     ]
    }
   ],
   "source": [
    "# Python Assignment 1\n",
    "\n",
    "# 1st program\n",
    "list = range(2000,3201)\n",
    "list2 = []\n",
    "for i in range(0,len(list)-1):\n",
    "    if i % 7 == 0 and i % 5 != 0:\n",
    "        list2.append(list[i])\n",
    "print(*list2,sep=',')"
   ]
  },
  {
   "cell_type": "code",
   "execution_count": 2,
   "metadata": {},
   "outputs": [
    {
     "name": "stdout",
     "output_type": "stream",
     "text": [
      "Enter your  first name:suresh\n",
      "Enter your last name:tedla\n",
      "Your Full Name is : tedla suresh\n",
      "Your full name is : tedla suresh\n"
     ]
    }
   ],
   "source": [
    "# 2nd program\n",
    "first_name = input(\"Enter your  first name:\")\n",
    "last_name = input(\"Enter your last name:\")\n",
    "\n",
    "print(\"Your Full Name is : \"+last_name+\" \"+first_name) # print(\"Your full name: \",last_name,first_name)\n",
    "print(\"Your full name is :\",last_name,first_name)\n",
    "# both gives same out put"
   ]
  },
  {
   "cell_type": "code",
   "execution_count": 5,
   "metadata": {},
   "outputs": [
    {
     "name": "stdout",
     "output_type": "stream",
     "text": [
      "Volume of sphere is:  7238.229472512\n"
     ]
    }
   ],
   "source": [
    "# 3rd Program Volume of sphere\n",
    "pi = 3.141592653\n",
    "r = 12\n",
    "volume = 4/3*pi*r**3\n",
    "print(\"Volume of sphere is: \",volume)\n"
   ]
  },
  {
   "cell_type": "code",
   "execution_count": null,
   "metadata": {},
   "outputs": [],
   "source": []
  },
  {
   "cell_type": "code",
   "execution_count": null,
   "metadata": {},
   "outputs": [],
   "source": []
  },
  {
   "cell_type": "code",
   "execution_count": null,
   "metadata": {},
   "outputs": [],
   "source": []
  }
 ],
 "metadata": {
  "kernelspec": {
   "display_name": "Python 3",
   "language": "python",
   "name": "python3"
  },
  "language_info": {
   "codemirror_mode": {
    "name": "ipython",
    "version": 3
   },
   "file_extension": ".py",
   "mimetype": "text/x-python",
   "name": "python",
   "nbconvert_exporter": "python",
   "pygments_lexer": "ipython3",
   "version": "3.7.6"
  }
 },
 "nbformat": 4,
 "nbformat_minor": 4
}
